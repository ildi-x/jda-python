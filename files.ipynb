{
 "cells": [
  {
   "cell_type": "code",
   "execution_count": 44,
   "id": "b2d3f7e8",
   "metadata": {},
   "outputs": [
    {
     "data": {
      "text/plain": [
       "310"
      ]
     },
     "execution_count": 44,
     "metadata": {},
     "output_type": "execute_result"
    }
   ],
   "source": [
    "#Q1 Create a text file called mytxt.txt\n",
    "# Save the following content in the text file:\n",
    "# \"In this section, we will use Python's built-in open function to create a file,\n",
    "# and obtain the data from a \"txt\" file.\n",
    "# We will use Python's open function to get a file object. \n",
    "# We can apply a method to that object to read data from the file.  \n",
    "# The first argument is the file path, the second parameter is the mode.\"\n",
    "\n",
    "\"\"\"\n",
    "Another solution: \n",
    "\n",
    "with open(\"mytxt.txt\", \"w\") as file:\n",
    "    file.write(\"# \\\"In this section, we will use Python's built-in open function to create a file,\\n\")\n",
    "    file.write(\"# and obtain the data from a \\\"txt\\\" file.\\n\")\n",
    "    file.write(\"# We will use Python's open function to get a file object. \\n\")\n",
    "    file.write(\"# We can apply a method to that object to read data from the file.  \\n\")\n",
    "    file.write(\"# The first argument is the file path, the second parameter is the mode.\\\"\")\n",
    "    \n",
    "\"\"\"\n",
    "\n",
    "f = open(\"mytxt.txt\", \"w\")\n",
    "#L = [\"This is Lagos \\n\",\"This is Python \\n\",\"This is Fcc \\n\"]\n",
    "\n",
    "f.write(\"In this section, we will use Python's built-in open function to create a file, and obtain the data from a \\\"txt\\\" file.\\nWe will use Python's open function to get a file object.\\nWe can apply a method to that object to read data from the file.\\nThe first argument is the file path, the second parameter is the mode.\")\n",
    "\n"
   ]
  },
  {
   "cell_type": "code",
   "execution_count": 40,
   "id": "76eaeab5",
   "metadata": {},
   "outputs": [
    {
     "name": "stdout",
     "output_type": "stream",
     "text": [
      "In this section, we will use Python's built-in open function to create a file, and obtain the data from a \"txt\" file.\n",
      "We will use Python's open function to get a file object.\n",
      "We can apply a method to that object to read data from the file.\n",
      "The first argument is the file path, the second parameter is the mode.\n"
     ]
    }
   ],
   "source": [
    "#Q1 Write a Python program to read the entire mytxt file\n",
    "f = open(\"mytxt.txt\", \"r\") # ('r') opens the text file for reading only \n",
    "print(f.read()) # the \"f.read\" prints out the data in the text file "
   ]
  },
  {
   "cell_type": "code",
   "execution_count": 41,
   "id": "599c9a95",
   "metadata": {},
   "outputs": [
    {
     "name": "stdout",
     "output_type": "stream",
     "text": [
      "We will use Python's open function to get a file object.\n",
      "We can apply a method to that object to read data from the file.\n",
      "The first argument is the file path, the second parameter is the mode.\n"
     ]
    }
   ],
   "source": [
    "#Q2 Write a Python program to read last 3 lines of mytxt file\n",
    "\n",
    "# Open the \"mytxt.txt\" file in read mode and store the file object in the variable \"file\"\n",
    "with open(\"mytxt.txt\", \"r\") as file:\n",
    "    # Read the last 3 lines of the file and store them in a list called \"last_lines\"\n",
    "    last_lines = file.readlines()[-3:]\n",
    "    \n",
    "    # Iterate over each line in the \"last_lines\" list and print it to the console\n",
    "    # using the \"strip()\" method to remove any newline characters from the end of the line\n",
    "    for line in last_lines:\n",
    "        print(line.strip())"
   ]
  },
  {
   "cell_type": "code",
   "execution_count": 42,
   "id": "378c5385",
   "metadata": {},
   "outputs": [
    {
     "name": "stdout",
     "output_type": "stream",
     "text": [
      "We can apply a method to that object to read data from the file.\n",
      "The first argument is the file path, the second parameter is the mode.\n"
     ]
    }
   ],
   "source": [
    "#Q3 Write a Python program to read last n lines of mytxt file \n",
    "#[Hint: write a function]\n",
    "\n",
    "def read_last_n_lines(file_path, n):\n",
    "    with open(file_path, \"r\") as file:\n",
    "        # Read all the lines of the file and store them in a list called \"lines\"\n",
    "        lines = file.readlines()\n",
    "        \n",
    "        # Slice the list to get only the last n lines and store them in a list called \"last_lines\"\n",
    "        last_lines = lines[-n:]\n",
    "        \n",
    "        # Iterate over each line in the \"last_lines\" list and print it to the console\n",
    "        # using the \"strip()\" method to remove any newline characters from the end of the line\n",
    "        for line in last_lines:\n",
    "            print(line.strip())\n",
    "            \n",
    "# Example usage:\n",
    "read_last_n_lines(\"mytxt.txt\", 2)"
   ]
  },
  {
   "cell_type": "code",
   "execution_count": 43,
   "id": "5371d9cb",
   "metadata": {},
   "outputs": [
    {
     "name": "stdout",
     "output_type": "stream",
     "text": [
      "The file contains 4 lines.\n"
     ]
    }
   ],
   "source": [
    "#Q4 count the number of lines in mytxt file \n",
    "\n",
    "def count_lines(file_path):\n",
    "  with open(file_path, \"r\") as file:\n",
    "    num_lines = 0\n",
    "    for line in file: \n",
    "      num_lines +=1\n",
    "  return num_lines\n",
    "\n",
    "\n",
    "num_lines = count_lines(\"mytxt.txt\")\n",
    "print(f\"The file contains {num_lines} lines.\")"
   ]
  },
  {
   "cell_type": "code",
   "execution_count": 45,
   "id": "7ef25d91",
   "metadata": {},
   "outputs": [
    {
     "name": "stdout",
     "output_type": "stream",
     "text": [
      "Created file: A.txt\n",
      "Created file: B.txt\n",
      "Created file: C.txt\n",
      "Created file: D.txt\n",
      "Created file: E.txt\n",
      "Created file: F.txt\n",
      "Created file: G.txt\n",
      "Created file: H.txt\n",
      "Created file: I.txt\n",
      "Created file: J.txt\n",
      "Created file: K.txt\n",
      "Created file: L.txt\n",
      "Created file: M.txt\n",
      "Created file: N.txt\n",
      "Created file: O.txt\n",
      "Created file: P.txt\n",
      "Created file: Q.txt\n",
      "Created file: R.txt\n",
      "Created file: S.txt\n",
      "Created file: T.txt\n",
      "Created file: U.txt\n",
      "Created file: V.txt\n",
      "Created file: W.txt\n",
      "Created file: X.txt\n",
      "Created file: Y.txt\n",
      "Created file: Z.txt\n"
     ]
    }
   ],
   "source": [
    "#Q5 Write a Python program to generate 26 text files named A.txt, B.txt,...Z.txt\n",
    "\n",
    "import string\n",
    "\n",
    "# Get a list of uppercase letters from A to Z\n",
    "letters = list(string.ascii_uppercase)\n",
    "\n",
    "# Iterate over the letters and create a file for each one\n",
    "for letter in letters:\n",
    "    # Create the file name by concatenating the letter with \".txt\"\n",
    "    file_name = f\"{letter}.txt\"\n",
    "    \n",
    "    # Use a context manager to create and open the file in write mode\n",
    "    with open(file_name, \"w\") as file:\n",
    "        # Write the letter to the file\n",
    "        file.write(letter)\n",
    "        \n",
    "        # Print a message indicating that the file was created\n",
    "        print(f\"Created file: {file_name}\")\n"
   ]
  },
  {
   "cell_type": "code",
   "execution_count": 46,
   "id": "c714d290",
   "metadata": {},
   "outputs": [
    {
     "name": "stdout",
     "output_type": "stream",
     "text": [
      "End of file\n",
      "\n"
     ]
    }
   ],
   "source": [
    "#Q6 Write a Python program to append \"End of file\" to mytxt file and \n",
    "# display the text \n",
    "\n",
    "# Open the \"mytxt.txt\" file in append mode and store the file object in the variable \"file\"\n",
    "with open(\"mytxt.txt\", \"a\") as file:\n",
    "    # Write the text \"End of file\" to the file\n",
    "    file.write(\"End of file\\n\")\n",
    "\n",
    "# Open the \"mytxt.txt\" file in read mode and store the file object in the variable \"file\"\n",
    "with open(\"mytxt.txt\", \"r\") as file:\n",
    "    # Read the contents of the file and store them in a variable called \"contents\"\n",
    "    contents = file.read()\n",
    "    \n",
    "    # Print the contents of the file to the console\n",
    "    print(contents)\n"
   ]
  },
  {
   "cell_type": "code",
   "execution_count": 47,
   "id": "4c5d0209",
   "metadata": {},
   "outputs": [
    {
     "name": "stdout",
     "output_type": "stream",
     "text": [
      "End of file\n"
     ]
    }
   ],
   "source": [
    "#Q7 Write a Python program to remove newline characters from mytxt file\n",
    "\n",
    "# Open the \"mytxt.txt\" file in read mode and store the file object in the variable \"file\"\n",
    "with open(\"mytxt.txt\", \"r\") as file:\n",
    "    # Read the contents of the file and store them in a variable called \"contents\"\n",
    "    contents = file.read()\n",
    "    \n",
    "    # Remove newline characters from the contents of the file using the \"replace()\" method\n",
    "    contents = contents.replace(\"\\n\", \"\")\n",
    "    \n",
    "    # Print the updated contents of the file to the console\n",
    "    print(contents)\n",
    "    \n",
    "# Open the \"mytxt.txt\" file in write mode and store the file object in the variable \"file\"\n",
    "with open(\"mytxt.txt\", \"w\") as file:\n",
    "    # Write the updated contents of the file back to the file\n",
    "    file.write(contents)\n"
   ]
  },
  {
   "cell_type": "code",
   "execution_count": 48,
   "id": "d2887844",
   "metadata": {},
   "outputs": [
    {
     "name": "stdout",
     "output_type": "stream",
     "text": [
      "The longest word in the file is: file\n"
     ]
    }
   ],
   "source": [
    "# Q8 Write a python program to find the longest word in mytxt file\n",
    "\n",
    "# Open the \"mytxt.txt\" file in read mode and store the file object in the variable \"file\"\n",
    "with open(\"mytxt.txt\", \"r\") as file:\n",
    "    # Read the contents of the file and store them in a variable called \"contents\"\n",
    "    contents = file.read()\n",
    "    \n",
    "    # Split the contents of the file into words using the \"split()\" method\n",
    "    words = contents.split()\n",
    "    \n",
    "    # Initialize a variable called \"longest_word\" to an empty string\n",
    "    longest_word = \"\"\n",
    "    \n",
    "    # Iterate over each word in the \"words\" list\n",
    "    for word in words:\n",
    "        # If the length of the current word is greater than the length of the current value of \"longest_word\",\n",
    "        # update the value of \"longest_word\" to be the current word\n",
    "        if len(word) > len(longest_word):\n",
    "            longest_word = word\n",
    "    \n",
    "    # Print the longest word to the console\n",
    "    print(\"The longest word in the file is:\", longest_word)\n"
   ]
  },
  {
   "cell_type": "code",
   "execution_count": 49,
   "id": "d52f79b7",
   "metadata": {},
   "outputs": [
    {
     "name": "stdout",
     "output_type": "stream",
     "text": [
      "The frequency of 'We' in the file is: 0\n"
     ]
    }
   ],
   "source": [
    "#Q9  Write a Python program to count the frequency \"We\" in mytxt file\n",
    "\n",
    "# Open the \"mytxt.txt\" file in read mode and store the file object in the variable \"file\"\n",
    "with open(\"mytxt.txt\", \"r\") as file:\n",
    "    # Read the contents of the file and store them in a variable called \"contents\"\n",
    "    contents = file.read()\n",
    "    \n",
    "    # Use the \"count()\" method to count the number of occurrences of \"We\" in the file\n",
    "    frequency = contents.count(\"We\")\n",
    "    \n",
    "    # Print the frequency of \"We\" to the console\n",
    "    print(\"The frequency of 'We' in the file is:\", frequency)\n"
   ]
  },
  {
   "cell_type": "code",
   "execution_count": 61,
   "id": "4c8d3c60",
   "metadata": {},
   "outputs": [
    {
     "name": "stdout",
     "output_type": "stream",
     "text": [
      "Welcome! Do you want to sign up or login?\n",
      "Enter 'S' for sign up or 'L' for login: L\n",
      "Enter your name: John\n",
      "Enter your password: pass123\n",
      "Welcome John!\n"
     ]
    }
   ],
   "source": [
    "\"\"\" \n",
    "Write a Python program to build a sign_Up and login forms for users. Your program should validate/authenticate entered \n",
    "credentials for existing users or create new accounts for new users. \n",
    "\n",
    "1. Create \"Credentials.txt\" file\n",
    "\n",
    "2. Add the following information into your Credentials.txt file <Name, Password>: \n",
    "     - Sarah,12ssr\n",
    "     - Lisa,pass\n",
    "     - Donna,D00N\n",
    "\n",
    "3. Create login function that takes two inputs (name,password)\n",
    "\n",
    "   3.1. Ask the user to enter their username and password\n",
    "   3.2 search if the names exist in the Credentials.txt file\n",
    "         3.2.1. if the name was found, check if the password is correct\n",
    "         3.2.2. return \"Welcome <persons name> if the name and password were correct\"\n",
    "         3.2.3. else return \"wrong name or password\"\n",
    "   3.3 if the name doesn't exist return \"your name doesn't exist, please create a new account\"\n",
    "\n",
    "4. Create sign_Up function that takes two inputs(newName,newPassword). Ask user to enter their name and \n",
    "password append the new information into the Credentials.txt file, follow the same format \"name,password\"\n",
    "\n",
    "5. Test your program by logging in using the new account\n",
    "\n",
    "\n",
    "\n",
    "def login(name, password):\n",
    "    # Open the \"Credentials.txt\" file in read mode and store the file object in the variable \"file\"\n",
    "    with open(\"Credentials.txt\", \"r\") as file:\n",
    "        # Iterate over each line in the file\n",
    "        for line in file:\n",
    "            # Split the line into a list of name and password using the comma separator\n",
    "            info = line.strip().split(\",\")\n",
    "            # Check if the entered name matches the name in the file\n",
    "            if info[0] == name:\n",
    "                # Check if the entered password matches the password in the file\n",
    "                if info[1] == password:\n",
    "                    return f\"Welcome {name}!\"\n",
    "                else:\n",
    "                    return \"Wrong name or password.\"\n",
    "        # If the name is not found in the file, return an error message\n",
    "        return \"Your name doesn't exist, please create a new account.\"\n",
    "\n",
    "\n",
    "def sign_up(name, password):\n",
    "    # Open the \"Credentials.txt\" file in append mode and store the file object in the variable \"file\"\n",
    "    with open(\"Credentials.txt\", \"a\") as file:\n",
    "        # Append the new name and password in the format \"name,password\" to the file\n",
    "        file.write(f\"\\n{name},{password}\")\n",
    "        return \"Account created successfully!\"\n",
    "\n",
    "\n",
    "# Test the program\n",
    "print(sign_up(\"John\", \"pass123\"))\n",
    "print(login(\"Sarah\", \"12ssr\"))\n",
    "print(login(\"Donna\", \"D00N\"))\n",
    "print(login(\"John\", \"pass123\"))\n",
    "\n",
    "\"\"\"\n",
    "\n",
    "def login(name, password):\n",
    "    # Open the \"Credentials.txt\" file in read mode and store the file object in the variable \"file\"\n",
    "    with open(\"Credentials.txt\", \"r\") as file:\n",
    "        # Iterate over each line in the file\n",
    "        for line in file:\n",
    "            # Split the line into a list of name and password using the comma separator\n",
    "            info = line.strip().split(\",\")\n",
    "            # Check if the entered name matches the name in the file\n",
    "            if info[0] == name:\n",
    "                # Check if the entered password matches the password in the file\n",
    "                if info[1] == password:\n",
    "                    return f\"Welcome {name}!\"\n",
    "                else:\n",
    "                    return \"Wrong name or password.\"\n",
    "        # If the name is not found in the file, return an error message\n",
    "        return \"Your name doesn't exist, please create a new account.\"\n",
    "\n",
    "\n",
    "def sign_up(name, password):\n",
    "    # Open the \"Credentials.txt\" file in append mode and store the file object in the variable \"file\"\n",
    "    with open(\"Credentials.txt\", \"a\") as file:\n",
    "        # Append the new name and password in the format \"name,password\" to the file\n",
    "        file.write(f\"\\n{name},{password}\")\n",
    "        return \"Account created successfully!\"\n",
    "\n",
    "\n",
    "print(\"Welcome! Do you want to sign up or login?\")\n",
    "choice = input(\"Enter 'S' for sign up or 'L' for login: \")\n",
    "\n",
    "if choice.lower() == \"s\":\n",
    "    # Ask for user inputs for signing up\n",
    "    name = input(\"Enter your name: \")\n",
    "    password = input(\"Enter your password: \")\n",
    "    print(sign_up(name, password))\n",
    "elif choice.lower() == \"l\":\n",
    "    # Ask for user inputs for logging in\n",
    "    name = input(\"Enter your name: \")\n",
    "    password = input(\"Enter your password: \")\n",
    "    print(login(name, password))\n",
    "else:\n",
    "    print(\"Invalid choice. Please try again.\")\n"
   ]
  },
  {
   "cell_type": "code",
   "execution_count": null,
   "id": "9a69dc85",
   "metadata": {},
   "outputs": [],
   "source": []
  }
 ],
 "metadata": {
  "kernelspec": {
   "display_name": "Python 3 (ipykernel)",
   "language": "python",
   "name": "python3"
  },
  "language_info": {
   "codemirror_mode": {
    "name": "ipython",
    "version": 3
   },
   "file_extension": ".py",
   "mimetype": "text/x-python",
   "name": "python",
   "nbconvert_exporter": "python",
   "pygments_lexer": "ipython3",
   "version": "3.9.13"
  }
 },
 "nbformat": 4,
 "nbformat_minor": 5
}
