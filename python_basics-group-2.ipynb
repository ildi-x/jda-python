{
  "cells": [
    {
      "cell_type": "markdown",
      "source": [
        "Participants:\n",
        "Andrae \n",
        "Doris\n",
        "Ildi\n",
        "Ranjani\n",
        "Zhirong\n",
        "Mostafa\n",
        "Jose"
      ],
      "metadata": {
        "id": "kDtX_a_WEWQP"
      },
      "id": "kDtX_a_WEWQP"
    },
    {
      "cell_type": "code",
      "execution_count": null,
      "metadata": {
        "colab": {
          "base_uri": "https://localhost:8080/"
        },
        "id": "1adc9008",
        "outputId": "e3841de0-da62-4eec-dba9-7af7ead21788"
      },
      "outputs": [
        {
          "output_type": "stream",
          "name": "stdout",
          "text": [
            "3.8.10 (default, Nov 14 2022, 12:59:47) \n",
            "[GCC 9.4.0]\n"
          ]
        }
      ],
      "source": [
        "#Write a Python code to return your Python version\n",
        "import sys\n",
        "print(sys.version)"
      ],
      "id": "1adc9008"
    },
    {
      "cell_type": "code",
      "execution_count": null,
      "metadata": {
        "id": "3113c391",
        "colab": {
          "base_uri": "https://localhost:8080/"
        },
        "outputId": "b760aaa3-f549-4e62-c9bb-96758420832c"
      },
      "outputs": [
        {
          "output_type": "stream",
          "name": "stdout",
          "text": [
            "Customer ID = 513\n"
          ]
        }
      ],
      "source": [
        "##Write a Python code to declare variable id=\"513\".\n",
        "#Print the following statement \"customer id =513\". [Don't use print(\"customer id\")]\n",
        "a = \"Customer ID = \"\n",
        "id = \"513\"\n",
        "print(a+id)\n"
      ],
      "id": "3113c391"
    },
    {
      "cell_type": "markdown",
      "source": [],
      "metadata": {
        "id": "tz5ogkHp7WGs"
      },
      "id": "tz5ogkHp7WGs"
    },
    {
      "cell_type": "code",
      "execution_count": null,
      "metadata": {
        "id": "b5d2e8a7",
        "colab": {
          "base_uri": "https://localhost:8080/",
          "height": 217
        },
        "outputId": "2f399a4d-1dd8-4738-caed-afd915fb709a"
      },
      "outputs": [
        {
          "output_type": "error",
          "ename": "TypeError",
          "evalue": "ignored",
          "traceback": [
            "\u001b[0;31m---------------------------------------------------------------------------\u001b[0m",
            "\u001b[0;31mTypeError\u001b[0m                                 Traceback (most recent call last)",
            "\u001b[0;32m<ipython-input-76-cd66df919d16>\u001b[0m in \u001b[0;36m<module>\u001b[0;34m\u001b[0m\n\u001b[1;32m      1\u001b[0m \u001b[0;31m#Run the following statement, why there is an error\u001b[0m\u001b[0;34m\u001b[0m\u001b[0;34m\u001b[0m\u001b[0;34m\u001b[0m\u001b[0m\n\u001b[0;32m----> 2\u001b[0;31m \u001b[0mid\u001b[0m\u001b[0;34m=\u001b[0m\u001b[0mid\u001b[0m\u001b[0;34m+\u001b[0m\u001b[0;36m1\u001b[0m\u001b[0;34m\u001b[0m\u001b[0;34m\u001b[0m\u001b[0m\n\u001b[0m\u001b[1;32m      3\u001b[0m \u001b[0;31m# Python can only concatenate String Variables and not Integers\u001b[0m\u001b[0;34m\u001b[0m\u001b[0;34m\u001b[0m\u001b[0;34m\u001b[0m\u001b[0m\n\u001b[1;32m      4\u001b[0m \u001b[0;31m# Can be corrected by converting id to Int EG. int(id)\u001b[0m\u001b[0;34m\u001b[0m\u001b[0;34m\u001b[0m\u001b[0;34m\u001b[0m\u001b[0m\n",
            "\u001b[0;31mTypeError\u001b[0m: can only concatenate str (not \"int\") to str"
          ]
        }
      ],
      "source": [
        "#Run the following statement, why there is an error\n",
        "id=id+1\n",
        "# Python can only concatenate String Variables and not Integers\n",
        "# Can be corrected by converting id to Int EG. int(id)"
      ],
      "id": "b5d2e8a7"
    },
    {
      "cell_type": "code",
      "execution_count": null,
      "metadata": {
        "id": "22a8882f",
        "colab": {
          "base_uri": "https://localhost:8080/"
        },
        "outputId": "9962c634-da1f-4f3e-b33e-4b3197d82513"
      },
      "outputs": [
        {
          "output_type": "stream",
          "name": "stdout",
          "text": [
            "514\n"
          ]
        }
      ],
      "source": [
        "#Convert the variable id into an integer, increment it by 1.\n",
        "#Assign the result to variable new_id.\n",
        "#Print the new_id\n",
        "new_id=int(id)+1\n",
        "print(new_id)\n"
      ],
      "id": "22a8882f"
    },
    {
      "cell_type": "code",
      "source": [],
      "metadata": {
        "id": "mi9cdQWs7gnY"
      },
      "id": "mi9cdQWs7gnY",
      "execution_count": null,
      "outputs": []
    },
    {
      "cell_type": "code",
      "execution_count": null,
      "metadata": {
        "id": "a85af7d0",
        "colab": {
          "base_uri": "https://localhost:8080/"
        },
        "outputId": "2cf80080-b93a-4577-b3c6-781d002cd0c6"
      },
      "outputs": [
        {
          "output_type": "stream",
          "name": "stdout",
          "text": [
            "Twinkle, twinkle, little star, \n",
            "\t How I wonder what you are! \n",
            "\t\t Up above the world so high, \n",
            "\t\t\t Like a diamond in the sky.\n"
          ]
        }
      ],
      "source": [
        "#Write a Python code to print the following string in a specific format (see the\n",
        "# Twinkle, twinkle, little star,\n",
        "# How I wonder what you are!\n",
        "# Up above the world so high,\n",
        "# Like a diamond in the sky.\n",
        "\n",
        "s1 = \"Twinkle, twinkle, little star,\"\n",
        "s2 = \"How I wonder what you are!\"\n",
        "s3 = \"Up above the world so high,\"\n",
        "s4 = \"Like a diamond in the sky.\"\n",
        "\n",
        "print(s1,\"\\n\\t\", s2,\"\\n\\t\\t\", s3,\"\\n\\t\\t\\t\", s4)\n",
        "\n",
        "\n"
      ],
      "id": "a85af7d0"
    },
    {
      "cell_type": "code",
      "execution_count": null,
      "metadata": {
        "id": "a94fe25e"
      },
      "outputs": [],
      "source": [
        "#Givin the following string variable, # Print the first element in the string\n",
        "course=\"Python for Data Science\"\n",
        "\n",
        "\n",
        "print(course[0])"
      ],
      "id": "a94fe25e"
    },
    {
      "cell_type": "code",
      "execution_count": null,
      "metadata": {
        "id": "cff90c3a",
        "colab": {
          "base_uri": "https://localhost:8080/"
        },
        "outputId": "a5733336-1f9a-4508-a040-cb2128e0e3d9"
      },
      "outputs": [
        {
          "output_type": "stream",
          "name": "stdout",
          "text": [
            "t\n"
          ]
        }
      ],
      "source": [
        "# Print the element on the 13th index in the string\n",
        "print(course[13])"
      ],
      "id": "cff90c3a"
    },
    {
      "cell_type": "code",
      "execution_count": null,
      "metadata": {
        "id": "0ab0d3c6"
      },
      "outputs": [],
      "source": [
        "# Find the length of string\n",
        "print(len(course))"
      ],
      "id": "0ab0d3c6"
    },
    {
      "cell_type": "code",
      "execution_count": null,
      "metadata": {
        "id": "e41f8839"
      },
      "outputs": [],
      "source": [
        "#Print the last element in the string [use negative index]\n",
        "print(course[-1])"
      ],
      "id": "e41f8839"
    },
    {
      "cell_type": "code",
      "execution_count": null,
      "metadata": {
        "id": "f3902644",
        "colab": {
          "base_uri": "https://localhost:8080/"
        },
        "outputId": "f0042c43-2b4d-4cff-941e-d904f683636c"
      },
      "outputs": [
        {
          "output_type": "stream",
          "name": "stdout",
          "text": [
            "Data\n"
          ]
        }
      ],
      "source": [
        "#Take the slice on variable course with only index 11 to index 14\n",
        "print(course[11:15])"
      ],
      "id": "f3902644"
    },
    {
      "cell_type": "code",
      "execution_count": null,
      "metadata": {
        "id": "dcf1859f",
        "colab": {
          "base_uri": "https://localhost:8080/"
        },
        "outputId": "e5a22a98-6a0d-4392-8eab-b3cc729c3a7a"
      },
      "outputs": [
        {
          "output_type": "stream",
          "name": "stdout",
          "text": [
            "Ph ra i\n"
          ]
        }
      ],
      "source": [
        "# Get every third element in the range from index 0 to index 20\n",
        "print(course[0:21:3])"
      ],
      "id": "dcf1859f"
    },
    {
      "cell_type": "code",
      "execution_count": null,
      "metadata": {
        "id": "342fab51",
        "colab": {
          "base_uri": "https://localhost:8080/"
        },
        "outputId": "735a173a-fff9-4f85-8e4b-b6b59dcaa2f8"
      },
      "outputs": [
        {
          "output_type": "stream",
          "name": "stdout",
          "text": [
            "Python for Data Science, AI & Development\n"
          ]
        }
      ],
      "source": [
        "# Concatenate course string with \", AI & Development\"\n",
        "concat = course + \", AI & Development\"\n",
        "print(concat)"
      ],
      "id": "342fab51"
    },
    {
      "cell_type": "code",
      "execution_count": null,
      "metadata": {
        "id": "075697bb",
        "colab": {
          "base_uri": "https://localhost:8080/"
        },
        "outputId": "884216f7-5ea8-4a73-cd7a-bb0e14c5ea69"
      },
      "outputs": [
        {
          "output_type": "stream",
          "name": "stdout",
          "text": [
            "Python_for_Data_Science\n"
          ]
        }
      ],
      "source": [
        "# Replace all the spaces with (_). New string should looks like\"Python_for_Data_Science\n",
        "replace = course.replace(\" \", \"_\")\n",
        "print(replace)"
      ],
      "id": "075697bb"
    },
    {
      "cell_type": "code",
      "execution_count": null,
      "metadata": {
        "id": "488d1538",
        "colab": {
          "base_uri": "https://localhost:8080/"
        },
        "outputId": "56ea7a6e-1132-4a3f-bca1-55f1b43098b3"
      },
      "outputs": [
        {
          "output_type": "stream",
          "name": "stdout",
          "text": [
            "PYTHON_FOR_DATA_SCIENCE\n"
          ]
        }
      ],
      "source": [
        "# Convert all the characters in string to upper case\n",
        "upper = replace.upper()\n",
        "print(upper)"
      ],
      "id": "488d1538"
    }
  ],
  "metadata": {
    "colab": {
      "provenance": []
    },
    "kernelspec": {
      "display_name": "Python 3",
      "language": "python",
      "name": "python3"
    },
    "language_info": {
      "codemirror_mode": {
        "name": "ipython",
        "version": 3
      },
      "file_extension": ".py",
      "mimetype": "text/x-python",
      "name": "python",
      "nbconvert_exporter": "python",
      "pygments_lexer": "ipython3",
      "version": "3.8.8"
    }
  },
  "nbformat": 4,
  "nbformat_minor": 5
}
